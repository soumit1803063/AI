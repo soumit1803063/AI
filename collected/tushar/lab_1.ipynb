{
 "cells": [
  {
   "cell_type": "code",
   "execution_count": null,
   "metadata": {},
   "outputs": [],
   "source": [
    "#Importing The CSV File by using pandas\n",
    "import pandas as pd\n",
    "import numpy as np\n",
    "df = pd.read_csv(\"PlayTennis.csv\")\n",
    "df.shape[0]\n"
   ]
  },
  {
   "cell_type": "code",
   "execution_count": null,
   "metadata": {},
   "outputs": [],
   "source": [
    "#Extracting a Column\n",
    "df_Outlook = pd.DataFrame(df,columns=['Outlook'])\n",
    "print(df_Outlook)"
   ]
  },
  {
   "cell_type": "code",
   "execution_count": null,
   "metadata": {},
   "outputs": [],
   "source": [
    "#extracting unique elements\n",
    "outlook_unique = df['Outlook'].unique()\n",
    "print(outlook_unique)"
   ]
  },
  {
   "cell_type": "code",
   "execution_count": null,
   "metadata": {},
   "outputs": [],
   "source": [
    "#Extracting Last Coloumn and Find the Class Entropy\n",
    "def finding_Class_Entropy(df):\n",
    "    import numpy as np\n",
    "\n",
    "    df_last_col = df.iloc[: , -1:]\n",
    "    df_last_col_unique = df[df.columns[-1]].unique()\n",
    "\n",
    "    #Finding Class entropy\n",
    "    last_col_value_count = df_last_col.value_counts()\n",
    "    class_entropy = 0\n",
    "\n",
    "    for value in df_last_col_unique:\n",
    "        probability = last_col_value_count[value] / df_last_col.size\n",
    "        class_entropy += -(probability*np.log2(probability))\n",
    "\n",
    "    return class_entropy\n",
    "\n",
    "\n",
    "print(finding_Class_Entropy(df))\n",
    "    "
   ]
  },
  {
   "cell_type": "code",
   "execution_count": null,
   "metadata": {},
   "outputs": [],
   "source": [
    "#Findning attribute entropy try!\n",
    "\n",
    "attribute = 'Outlook'\n",
    "\n",
    "df_last_col = df.iloc[: , -1:]\n",
    "df_last_col_unique = df[df.columns[-1]].unique()\n",
    "\n",
    "attr_col = df[attribute]\n",
    "attr_col_unique = df[attribute].unique()\n",
    "#print(attr_col)\n",
    "#print(attr_col_unique)\n",
    "\n",
    "attr_value_entropy = {}\n",
    "\n",
    "for value in attr_col_unique:\n",
    "    df2 = df[df[attribute] == value]\n",
    "\n",
    "    df2_last_col = df2.columns[-1]\n",
    "    \n",
    "    attr_val_entropy = 0\n",
    "\n",
    "    for c in df_last_col_unique:\n",
    "        probability = df2[df2[df2_last_col] == c].shape[0]/df2.shape[0]\n",
    "\n",
    "        if probability != 0:\n",
    "            attr_val_entropy += -(probability*np.log2(probability))\n",
    "\n",
    "        else: \n",
    "            attr_val_entropy = 0\n",
    "\n",
    "    attr_value_entropy[value] = attr_val_entropy\n",
    "    \n",
    "attr_entropy = 0\n",
    "for value in attr_col_unique:\n",
    "    prob = df[df[attribute]  == value].shape[0]/df.shape[0]\n",
    "\n",
    "    attr_entropy += prob*attr_value_entropy[value]\n",
    "\n",
    "    \n",
    "print(attr_entropy)"
   ]
  },
  {
   "cell_type": "code",
   "execution_count": null,
   "metadata": {},
   "outputs": [],
   "source": [
    "#Finding the attribute entropy\n",
    "\n",
    "def attr_entropy(df, attribute):\n",
    "    df_last_col = df.iloc[: , -1:]\n",
    "    df_last_col_unique = df[df.columns[-1]].unique()\n",
    "\n",
    "    attr_col = df[attribute]\n",
    "    attr_col_unique = df[attribute].unique()\n",
    "    #print(attr_col)\n",
    "    #print(attr_col_unique)\n",
    "\n",
    "    attr_value_entropy = {}\n",
    "\n",
    "    for value in attr_col_unique:\n",
    "        df2 = df[df[attribute] == value]\n",
    "\n",
    "        df2_last_col = df2.columns[-1]\n",
    "        \n",
    "        attr_val_entropy = 0\n",
    "\n",
    "        for c in df_last_col_unique:\n",
    "            probability = df2[df2[df2_last_col] == c].shape[0]/df2.shape[0]\n",
    "\n",
    "            if probability != 0:\n",
    "                attr_val_entropy += -(probability*np.log2(probability))\n",
    "\n",
    "            else: \n",
    "                attr_val_entropy = 0\n",
    "\n",
    "        attr_value_entropy[value] = attr_val_entropy\n",
    "        \n",
    "    attr_entropy = 0\n",
    "    for value in attr_col_unique:\n",
    "        prob = df[df[attribute]  == value].shape[0]/df.shape[0]\n",
    "\n",
    "        attr_entropy += prob*attr_value_entropy[value]\n",
    "\n",
    "    return(attr_entropy)\n",
    "\n",
    "\n",
    "print(attr_entropy(df,'Outlook'))"
   ]
  },
  {
   "cell_type": "code",
   "execution_count": 52,
   "metadata": {},
   "outputs": [
    {
     "name": "stdout",
     "output_type": "stream",
     "text": [
      "{'Outlook': 0.24674981977443933, 'Humidity': 0.15183550136234159, 'Wind': 0.04812703040826949, 'Temperature': 0.02922256565895487}\n",
      "{'Outlook': 0.24674981977443933}\n"
     ]
    }
   ],
   "source": [
    "\n",
    "#Finding info gain\n",
    "def info_gain_max(df):\n",
    "    df_columns = list(df.columns)\n",
    "    df_columns.pop()\n",
    "\n",
    "    attr_info_gain = {}\n",
    "    df_attr_entropy = {}\n",
    "\n",
    "    for value in df_columns:\n",
    "        temp = finding_Class_Entropy(df) - attr_entropy(df, value)\n",
    "\n",
    "        attr_info_gain[value] = temp\n",
    "\n",
    "    sorted_attr_info_gain = dict(sorted(attr_info_gain.items(), key=lambda x:x[1], reverse= True))\n",
    "\n",
    "\n",
    "    print(sorted_attr_info_gain)\n",
    "\n",
    "    max_key = list(sorted_attr_info_gain.keys())[0]\n",
    "    max_value = list(sorted_attr_info_gain.values())[0]\n",
    "\n",
    "\n",
    "    max_info_gain = {}\n",
    "    max_info_gain[max_key] = max_value\n",
    "\n",
    "    return max_info_gain\n",
    "    \n",
    "\n",
    "print(info_gain_max(df))\n",
    "\n"
   ]
  }
 ],
 "metadata": {
  "kernelspec": {
   "display_name": "Python 3.10.6 64-bit",
   "language": "python",
   "name": "python3"
  },
  "language_info": {
   "codemirror_mode": {
    "name": "ipython",
    "version": 3
   },
   "file_extension": ".py",
   "mimetype": "text/x-python",
   "name": "python",
   "nbconvert_exporter": "python",
   "pygments_lexer": "ipython3",
   "version": "3.10.6"
  },
  "orig_nbformat": 4,
  "vscode": {
   "interpreter": {
    "hash": "82ad8a63b16339052b1b1e02f4db6cc66764784dbdd55e039ebdd7bf9834d243"
   }
  }
 },
 "nbformat": 4,
 "nbformat_minor": 2
}
